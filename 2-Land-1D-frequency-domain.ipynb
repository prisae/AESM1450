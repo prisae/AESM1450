{
 "cells": [
  {
   "cell_type": "markdown",
   "metadata": {},
   "source": [
    "````\n",
    "AESM1450 - Geophysical Prospecting  -- Controlled-Source ElectroMagnetic (CSEM) Modelling\n",
    "````\n",
    "\n",
    "# 2. Land 1D frequency domain\n",
    "\n",
    "In this second exercise we look at the same problem but removing the water layer, hence simulating a land survey.\n",
    "\n",
    "\n",
    "# Tasks\n",
    "\n",
    "In this notebook there is one task:\n",
    "1. Influence of (a) reservoir thickness, (b) depth, and (c) contrast\n",
    "\n",
    "Both tasks can be analyzed for:\n",
    "- Inline or crossline;\n",
    "- A resistor or a conductor.\n",
    "\n",
    "**=> So in total one task for four cases.**"
   ]
  },
  {
   "cell_type": "code",
   "execution_count": 1,
   "metadata": {},
   "outputs": [],
   "source": [
    "import empymod\n",
    "import numpy as np\n",
    "import matplotlib.pyplot as plt"
   ]
  },
  {
   "cell_type": "code",
   "execution_count": 2,
   "metadata": {},
   "outputs": [],
   "source": [
    "%matplotlib notebook\n",
    "plt.style.use('ggplot')"
   ]
  },
  {
   "cell_type": "markdown",
   "metadata": {},
   "source": [
    "### Define model parameters for both tasks"
   ]
  },
  {
   "cell_type": "code",
   "execution_count": 3,
   "metadata": {},
   "outputs": [],
   "source": [
    "# 1D depth model:\n",
    "# - target at 2 km depth below seafloor, 40 m thick\n",
    "depth = [0, -2000, -2040]\n",
    "\n",
    "# Corresponding resistivity model:\n",
    "res_background = [2e14, 10, 10, 10]\n",
    "res_resistor = [2e14, 10, 300, 10]   # Resistive model\n",
    "res_conductor = [2e14, 10, 0.3, 10]  # Conductive model"
   ]
  },
  {
   "cell_type": "markdown",
   "metadata": {},
   "source": [
    "### Define survey parameters"
   ]
  },
  {
   "cell_type": "code",
   "execution_count": 4,
   "metadata": {},
   "outputs": [
    {
     "name": "stdout",
     "output_type": "stream",
     "text": [
      "Offset: 5.0 km\n",
      "Frequency: 1.0 Hz\n",
      "\n",
      ":: empymod END; runtime = 0:00:00.151422 :: 1 kernel call(s)\n",
      "\n",
      "\n",
      ":: empymod END; runtime = 0:00:00.064824 :: 1 kernel call(s)\n",
      "\n"
     ]
    }
   ],
   "source": [
    "# Infinitesimal small dipole source at\n",
    "# x = 0 m, y = 0 m, z = 0 m \n",
    "source = [0, 0, 0]\n",
    "\n",
    "# Receivers: 101 receivers from x=0.5-10 km, y=0, z=0\n",
    "offsets = np.arange(5, 101)*100\n",
    "receivers = [offsets, offsets*0, 0]\n",
    "\n",
    "# Field\n",
    "ab = 11  # Inline (Exx)\n",
    "# ab = 22  # Broadside (Eyy)\n",
    "\n",
    "# Frequencies: 301 frequencies from 0.001-10 Hz\n",
    "frequencies= np.logspace(-3, 1, 301)\n",
    "\n",
    "# Get distinct receiver\n",
    "ri = 45\n",
    "receiver1 = [receivers[0][ri], receivers[1][ri], receivers[2]]\n",
    "print(f\"Offset: {receiver1[0]/1e3} km\")\n",
    "\n",
    "# Get distinct frequency\n",
    "fi = 225\n",
    "frequency1 = frequencies[fi]\n",
    "print(f\"Frequency: {frequency1} Hz\")\n",
    "\n",
    "# Calculate it\n",
    "resp_background1 = empymod.dipole(source, receiver1, depth, res_background, frequencies)\n",
    "resp_resistor1 = empymod.dipole(source, receiver1, depth, res_resistor, frequencies)"
   ]
  },
  {
   "cell_type": "markdown",
   "metadata": {},
   "source": [
    "\n",
    "## Task 1: Influence of (a) reservoir thickness, (b) depth, and (c) contrast\n",
    "\n",
    "How does target thickness, target depth, and the contrast between the background and the target affect the detectability?\n",
    "\n",
    "### Fixed:\n",
    "- Background fixed at 10 Ohm.m.\n",
    "\n",
    "### Flexible:\n",
    "- Vary the target depth from 1km to 3km.\n",
    "- Vary the target thickness from 5m to 100m.\n",
    "- Vary the target resistivity from 10 Ohm.m to 1000 Ohm.m.\n",
    "\n",
    "### => What are your conclusions?"
   ]
  },
  {
   "cell_type": "code",
   "execution_count": null,
   "metadata": {},
   "outputs": [],
   "source": []
  },
  {
   "cell_type": "code",
   "execution_count": 5,
   "metadata": {},
   "outputs": [
    {
     "data": {
      "text/html": [
       "<table style='border: 3px solid #ddd;'>\n",
       "  <tr>\n",
       "     <td style='text-align: center; font-weight: bold; font-size: 1.2em; border: 2px solid #fff;' colspan='6'>Wed Feb 17 13:03:48 2021 CET</td>\n",
       "  </tr>\n",
       "  <tr>\n",
       "    <td style='text-align: right; background-color: #ccc; border: 2px solid #fff;'>OS</td>\n",
       "    <td style='text-align: left; border: 2px solid #fff;'>Linux</td>\n",
       "    <td style='text-align: right; background-color: #ccc; border: 2px solid #fff;'>CPU(s)</td>\n",
       "    <td style='text-align: left; border: 2px solid #fff;'>4</td>\n",
       "    <td style='text-align: right; background-color: #ccc; border: 2px solid #fff;'>Machine</td>\n",
       "    <td style='text-align: left; border: 2px solid #fff;'>x86_64</td>\n",
       "  </tr>\n",
       "  <tr>\n",
       "    <td style='text-align: right; background-color: #ccc; border: 2px solid #fff;'>Architecture</td>\n",
       "    <td style='text-align: left; border: 2px solid #fff;'>64bit</td>\n",
       "    <td style='text-align: right; background-color: #ccc; border: 2px solid #fff;'>RAM</td>\n",
       "    <td style='text-align: left; border: 2px solid #fff;'>15.5 GB</td>\n",
       "    <td style='text-align: right; background-color: #ccc; border: 2px solid #fff;'>Environment</td>\n",
       "    <td style='text-align: left; border: 2px solid #fff;'>Jupyter</td>\n",
       "  </tr>\n",
       "  <tr>\n",
       "     <td style='text-align: center; border: 2px solid #fff;' colspan='6'>Python 3.8.6 | packaged by conda-forge | (default, Dec 26 2020, 05:05:16) \n",
       "[GCC 9.3.0]</td>\n",
       "  </tr>\n",
       "  <tr>\n",
       "    <td style='text-align: right; background-color: #ccc; border: 2px solid #fff;'>numpy</td>\n",
       "    <td style='text-align: left; border: 2px solid #fff;'>1.19.5</td>\n",
       "    <td style='text-align: right; background-color: #ccc; border: 2px solid #fff;'>scipy</td>\n",
       "    <td style='text-align: left; border: 2px solid #fff;'>1.6.0</td>\n",
       "    <td style='text-align: right; background-color: #ccc; border: 2px solid #fff;'>numba</td>\n",
       "    <td style='text-align: left; border: 2px solid #fff;'>0.51.2</td>\n",
       "  </tr>\n",
       "  <tr>\n",
       "    <td style='text-align: right; background-color: #ccc; border: 2px solid #fff;'>empymod</td>\n",
       "    <td style='text-align: left; border: 2px solid #fff;'>2.0.3</td>\n",
       "    <td style='text-align: right; background-color: #ccc; border: 2px solid #fff;'>IPython</td>\n",
       "    <td style='text-align: left; border: 2px solid #fff;'>7.19.0</td>\n",
       "    <td style='text-align: right; background-color: #ccc; border: 2px solid #fff;'>matplotlib</td>\n",
       "    <td style='text-align: left; border: 2px solid #fff;'>3.3.3</td>\n",
       "  </tr>\n",
       "  <tr>\n",
       "     <td style='text-align: center; background-color: #ddd;border: 2px solid #fff;' colspan='6'>Intel(R) Math Kernel Library Version 2020.0.1 Product Build 20200208 for Intel(R) 64 architecture applications</td>\n",
       "  </tr>\n",
       "</table>"
      ],
      "text/plain": [
       "\n",
       "--------------------------------------------------------------------------------\n",
       "  Date: Wed Feb 17 13:03:48 2021 CET\n",
       "\n",
       "                OS : Linux\n",
       "            CPU(s) : 4\n",
       "           Machine : x86_64\n",
       "      Architecture : 64bit\n",
       "               RAM : 15.5 GB\n",
       "       Environment : Jupyter\n",
       "\n",
       "  Python 3.8.6 | packaged by conda-forge | (default, Dec 26 2020, 05:05:16)\n",
       "  [GCC 9.3.0]\n",
       "\n",
       "             numpy : 1.19.5\n",
       "             scipy : 1.6.0\n",
       "             numba : 0.51.2\n",
       "           empymod : 2.0.3\n",
       "           IPython : 7.19.0\n",
       "        matplotlib : 3.3.3\n",
       "\n",
       "  Intel(R) Math Kernel Library Version 2020.0.1 Product Build 20200208 for\n",
       "  Intel(R) 64 architecture applications\n",
       "--------------------------------------------------------------------------------"
      ]
     },
     "execution_count": 5,
     "metadata": {},
     "output_type": "execute_result"
    }
   ],
   "source": [
    "empymod.Report()"
   ]
  }
 ],
 "metadata": {
  "kernelspec": {
   "display_name": "Python 3",
   "language": "python",
   "name": "python3"
  },
  "language_info": {
   "codemirror_mode": {
    "name": "ipython",
    "version": 3
   },
   "file_extension": ".py",
   "mimetype": "text/x-python",
   "name": "python",
   "nbconvert_exporter": "python",
   "pygments_lexer": "ipython3",
   "version": "3.8.6"
  }
 },
 "nbformat": 4,
 "nbformat_minor": 2
}
